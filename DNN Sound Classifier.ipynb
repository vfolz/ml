{
 "cells": [
  {
   "cell_type": "code",
   "execution_count": 2,
   "metadata": {},
   "outputs": [],
   "source": [
    "import glob \n",
    "import os.path\n",
    "import tensorflow as tf\n",
    "import numpy as np\n",
    "from tensorflow.contrib.framework.python.ops import audio_ops as contrib_audio"
   ]
  },
  {
   "cell_type": "code",
   "execution_count": 3,
   "metadata": {},
   "outputs": [],
   "source": [
    "def load_wav_file(filename):\n",
    "  \"\"\"Loads an audio file and returns a float PCM-encoded array of samples.\n",
    "  Args:\n",
    "    filename: Path to the .wav file to load.\n",
    "  Returns:\n",
    "    Numpy array holding the sample data as floats between -1.0 and 1.0.\n",
    "  \"\"\"\n",
    "  with tf.Session(graph=tf.Graph()) as sess:\n",
    "    wav_filename_placeholder = tf.placeholder(tf.string, [])\n",
    "    wav_loader = tf.read_file(filename)\n",
    "    wav_decoder = contrib_audio.decode_wav(wav_loader, desired_channels=1)\n",
    "    return sess.run(\n",
    "        wav_decoder,\n",
    "        feed_dict={wav_filename_placeholder: filename}).audio.flatten()\n",
    "\n",
    "def parse_audio_files(parent_dir,sub_dirs,file_ext='*.wav'):\n",
    "    i = 0\n",
    "    total_files = 0 \n",
    "    for subs in sub_dirs:\n",
    "        dir_name = parent_dir + \"/\" + subs\n",
    "        numfiles = sum(1 for f in os.listdir(dir_name) if os.path.isfile(os.path.join(dir_name, f)) and f[0] != '.')\n",
    "        total_files +=  numfiles\n",
    "    data = np.zeros((total_files,176400))\n",
    "    labels = np.zeros((total_files), dtype=int)\n",
    "    for label, sub_dir in enumerate(sub_dirs):\n",
    "        for fn in glob.glob(os.path.join(parent_dir, sub_dir, file_ext)):\n",
    "            data[i, :] =   load_wav_file(fn)\n",
    "            num = int(fn.split('-')[1]) \n",
    "            if num != 3:\n",
    "                labels [i:] = 0\n",
    "            else:\n",
    "                labels [i:] = 1 \n",
    "            i += 1\n",
    "    return data, labels"
   ]
  },
  {
   "cell_type": "code",
   "execution_count": 4,
   "metadata": {},
   "outputs": [],
   "source": [
    "parent_dir = 'datasets/audio'\n",
    "#sub_dirs = ['fold1', 'fold2', 'fold3', 'fold4', 'fold6', 'fold7', 'fold8', 'fold9']\n",
    "sub_dirs = ['fold1','fold2']\n",
    "data, labels =  parse_audio_files(parent_dir, sub_dirs)"
   ]
  },
  {
   "cell_type": "code",
   "execution_count": 5,
   "metadata": {},
   "outputs": [],
   "source": [
    "parent_dir = 'datasets/audio'\n",
    "sub_dirs = ['fold10']\n",
    "test_data, test_labels =  parse_audio_files(parent_dir, sub_dirs)"
   ]
  },
  {
   "cell_type": "code",
   "execution_count": 6,
   "metadata": {},
   "outputs": [
    {
     "name": "stdout",
     "output_type": "stream",
     "text": [
      "INFO:tensorflow:Using default config.\n",
      "INFO:tensorflow:Using config: {'_save_checkpoints_steps': None, '_save_summary_steps': 100, '_num_worker_replicas': 1, '_model_dir': 'dnn_sound_class', '_global_id_in_cluster': 0, '_task_id': 0, '_keep_checkpoint_every_n_hours': 10000, '_tf_random_seed': None, '_log_step_count_steps': 100, '_num_ps_replicas': 0, '_save_checkpoints_secs': 600, '_service': None, '_evaluation_master': '', '_task_type': 'worker', '_master': '', '_keep_checkpoint_max': 5, '_session_config': None, '_is_chief': True, '_cluster_spec': <tensorflow.python.training.server_lib.ClusterSpec object at 0x7f3afc8424e0>, '_train_distribute': None}\n"
     ]
    }
   ],
   "source": [
    "feature_columns = [tf.feature_column.numeric_column(\"x\", shape=[176400,])]\n",
    "classifier = tf.estimator.DNNClassifier(\n",
    "    feature_columns=feature_columns,\n",
    "    hidden_units=[500,250,125,75,50,25],\n",
    "    optimizer=tf.train.AdamOptimizer(1e-5),\n",
    "    n_classes=10,\n",
    "    dropout=0.1,\n",
    "    model_dir=\"dnn_sound_class\"\n",
    ")"
   ]
  },
  {
   "cell_type": "code",
   "execution_count": null,
   "metadata": {
    "scrolled": true
   },
   "outputs": [
    {
     "name": "stdout",
     "output_type": "stream",
     "text": [
      "INFO:tensorflow:Calling model_fn.\n",
      "INFO:tensorflow:Done calling model_fn.\n",
      "INFO:tensorflow:Create CheckpointSaverHook.\n",
      "INFO:tensorflow:Graph was finalized.\n",
      "INFO:tensorflow:Running local_init_op.\n",
      "INFO:tensorflow:Done running local_init_op.\n",
      "INFO:tensorflow:Saving checkpoints for 1 into dnn_sound_class/model.ckpt.\n",
      "INFO:tensorflow:step = 0, loss = 117.44269\n",
      "INFO:tensorflow:global_step/sec: 9.92429\n",
      "INFO:tensorflow:step = 100, loss = 114.40611 (10.078 sec)\n",
      "INFO:tensorflow:global_step/sec: 10.2316\n",
      "INFO:tensorflow:step = 200, loss = 112.33241 (9.774 sec)\n",
      "INFO:tensorflow:global_step/sec: 10.2913\n",
      "INFO:tensorflow:step = 300, loss = 109.13292 (9.716 sec)\n",
      "INFO:tensorflow:global_step/sec: 10.3749\n",
      "INFO:tensorflow:step = 400, loss = 99.244095 (9.639 sec)\n",
      "INFO:tensorflow:global_step/sec: 10.4146\n",
      "INFO:tensorflow:step = 500, loss = 82.51747 (9.602 sec)\n",
      "INFO:tensorflow:global_step/sec: 10.3398\n",
      "INFO:tensorflow:step = 600, loss = 65.17527 (9.671 sec)\n",
      "INFO:tensorflow:global_step/sec: 10.4082\n",
      "INFO:tensorflow:step = 700, loss = 47.284653 (9.608 sec)\n",
      "INFO:tensorflow:global_step/sec: 10.3477\n",
      "INFO:tensorflow:step = 800, loss = 34.12988 (9.664 sec)\n",
      "INFO:tensorflow:global_step/sec: 10.3564\n",
      "INFO:tensorflow:step = 900, loss = 21.934296 (9.657 sec)\n",
      "INFO:tensorflow:global_step/sec: 10.3453\n",
      "INFO:tensorflow:step = 1000, loss = 17.99032 (9.666 sec)\n",
      "INFO:tensorflow:global_step/sec: 10.297\n",
      "INFO:tensorflow:step = 1100, loss = 16.371086 (9.711 sec)\n",
      "INFO:tensorflow:global_step/sec: 10.394\n",
      "INFO:tensorflow:step = 1200, loss = 14.2483835 (9.621 sec)\n",
      "INFO:tensorflow:global_step/sec: 10.3172\n",
      "INFO:tensorflow:step = 1300, loss = 8.091457 (9.693 sec)\n",
      "INFO:tensorflow:global_step/sec: 10.4496\n",
      "INFO:tensorflow:step = 1400, loss = 7.67554 (9.570 sec)\n",
      "INFO:tensorflow:global_step/sec: 10.1776\n",
      "INFO:tensorflow:step = 1500, loss = 4.081087 (9.827 sec)\n",
      "INFO:tensorflow:global_step/sec: 10.382\n",
      "INFO:tensorflow:step = 1600, loss = 7.2295313 (9.630 sec)\n",
      "INFO:tensorflow:global_step/sec: 10.4133\n",
      "INFO:tensorflow:step = 1700, loss = 1.3716013 (9.604 sec)\n",
      "INFO:tensorflow:global_step/sec: 10.3328\n",
      "INFO:tensorflow:step = 1800, loss = 3.6315858 (9.677 sec)\n",
      "INFO:tensorflow:global_step/sec: 10.3652\n",
      "INFO:tensorflow:step = 1900, loss = 4.4642677 (9.647 sec)\n",
      "INFO:tensorflow:global_step/sec: 10.4084\n",
      "INFO:tensorflow:step = 2000, loss = 4.9237742 (9.607 sec)\n",
      "INFO:tensorflow:global_step/sec: 10.3003\n",
      "INFO:tensorflow:step = 2100, loss = 1.3450269 (9.709 sec)\n",
      "INFO:tensorflow:global_step/sec: 10.3468\n",
      "INFO:tensorflow:step = 2200, loss = 3.5047488 (9.665 sec)\n",
      "INFO:tensorflow:global_step/sec: 10.3694\n",
      "INFO:tensorflow:step = 2300, loss = 2.4326215 (9.644 sec)\n",
      "INFO:tensorflow:global_step/sec: 10.4015\n",
      "INFO:tensorflow:step = 2400, loss = 0.09586713 (9.614 sec)\n",
      "INFO:tensorflow:global_step/sec: 10.3008\n",
      "INFO:tensorflow:step = 2500, loss = 2.4185286 (9.708 sec)\n",
      "INFO:tensorflow:global_step/sec: 10.4337\n",
      "INFO:tensorflow:step = 2600, loss = 3.0660648 (9.585 sec)\n",
      "INFO:tensorflow:global_step/sec: 10.3894\n",
      "INFO:tensorflow:step = 2700, loss = 1.5603216 (9.625 sec)\n",
      "INFO:tensorflow:global_step/sec: 10.3845\n",
      "INFO:tensorflow:step = 2800, loss = 3.5548651 (9.630 sec)\n",
      "INFO:tensorflow:global_step/sec: 10.3693\n",
      "INFO:tensorflow:step = 2900, loss = 4.2006493 (9.643 sec)\n",
      "INFO:tensorflow:global_step/sec: 10.3769\n",
      "INFO:tensorflow:step = 3000, loss = 1.2610447 (9.637 sec)\n",
      "INFO:tensorflow:global_step/sec: 10.4087\n",
      "INFO:tensorflow:step = 3100, loss = 0.7778497 (9.607 sec)\n",
      "INFO:tensorflow:global_step/sec: 10.3059\n",
      "INFO:tensorflow:step = 3200, loss = 0.9297931 (9.704 sec)\n",
      "INFO:tensorflow:global_step/sec: 10.3492\n",
      "INFO:tensorflow:step = 3300, loss = 0.24078178 (9.662 sec)\n",
      "INFO:tensorflow:global_step/sec: 10.3638\n",
      "INFO:tensorflow:step = 3400, loss = 0.29020935 (9.649 sec)\n",
      "INFO:tensorflow:global_step/sec: 10.4297\n",
      "INFO:tensorflow:step = 3500, loss = 0.17697267 (9.588 sec)\n",
      "INFO:tensorflow:global_step/sec: 10.2855\n",
      "INFO:tensorflow:step = 3600, loss = 0.5446072 (9.722 sec)\n",
      "INFO:tensorflow:global_step/sec: 10.3498\n",
      "INFO:tensorflow:step = 3700, loss = 0.5995683 (9.662 sec)\n",
      "INFO:tensorflow:global_step/sec: 10.3302\n",
      "INFO:tensorflow:step = 3800, loss = 0.1708598 (9.680 sec)\n",
      "INFO:tensorflow:global_step/sec: 10.3346\n",
      "INFO:tensorflow:step = 3900, loss = 8.040888 (9.676 sec)\n",
      "INFO:tensorflow:global_step/sec: 10.3691\n",
      "INFO:tensorflow:step = 4000, loss = 0.28330353 (9.645 sec)\n",
      "INFO:tensorflow:global_step/sec: 10.3604\n",
      "INFO:tensorflow:step = 4100, loss = 0.026655767 (9.651 sec)\n",
      "INFO:tensorflow:global_step/sec: 10.3593\n",
      "INFO:tensorflow:step = 4200, loss = 0.35425645 (9.653 sec)\n",
      "INFO:tensorflow:global_step/sec: 10.3981\n",
      "INFO:tensorflow:step = 4300, loss = 0.27686864 (9.617 sec)\n",
      "INFO:tensorflow:global_step/sec: 10.413\n",
      "INFO:tensorflow:step = 4400, loss = 0.12878503 (9.603 sec)\n",
      "INFO:tensorflow:global_step/sec: 10.3403\n",
      "INFO:tensorflow:step = 4500, loss = 0.0428745 (9.671 sec)\n",
      "INFO:tensorflow:global_step/sec: 10.4105\n",
      "INFO:tensorflow:step = 4600, loss = 0.20232216 (9.606 sec)\n",
      "INFO:tensorflow:global_step/sec: 10.3854\n",
      "INFO:tensorflow:step = 4700, loss = 0.027348638 (9.629 sec)\n",
      "INFO:tensorflow:global_step/sec: 10.4346\n",
      "INFO:tensorflow:step = 4800, loss = 0.06441589 (9.583 sec)\n",
      "INFO:tensorflow:global_step/sec: 10.2917\n",
      "INFO:tensorflow:step = 4900, loss = 0.32463068 (9.716 sec)\n",
      "INFO:tensorflow:global_step/sec: 10.4181\n",
      "INFO:tensorflow:step = 5000, loss = 0.009737799 (9.601 sec)\n",
      "INFO:tensorflow:global_step/sec: 10.3847\n",
      "INFO:tensorflow:step = 5100, loss = 0.22886336 (9.628 sec)\n",
      "INFO:tensorflow:global_step/sec: 10.4133\n",
      "INFO:tensorflow:step = 5200, loss = 0.073701 (9.602 sec)\n",
      "INFO:tensorflow:global_step/sec: 10.3645\n",
      "INFO:tensorflow:step = 5300, loss = 0.10593572 (9.648 sec)\n",
      "INFO:tensorflow:global_step/sec: 10.4156\n",
      "INFO:tensorflow:step = 5400, loss = 0.041425653 (9.601 sec)\n",
      "INFO:tensorflow:global_step/sec: 10.4092\n",
      "INFO:tensorflow:step = 5500, loss = 0.028354615 (9.607 sec)\n",
      "INFO:tensorflow:global_step/sec: 10.3159\n",
      "INFO:tensorflow:step = 5600, loss = 0.020813797 (9.696 sec)\n",
      "INFO:tensorflow:global_step/sec: 10.3417\n",
      "INFO:tensorflow:step = 5700, loss = 0.043247934 (9.667 sec)\n",
      "INFO:tensorflow:global_step/sec: 10.3734\n",
      "INFO:tensorflow:step = 5800, loss = 0.10101245 (9.640 sec)\n",
      "INFO:tensorflow:global_step/sec: 10.3518\n",
      "INFO:tensorflow:step = 5900, loss = 0.08860618 (9.661 sec)\n",
      "INFO:tensorflow:global_step/sec: 10.318\n",
      "INFO:tensorflow:step = 6000, loss = 0.048169505 (9.691 sec)\n",
      "INFO:tensorflow:global_step/sec: 10.3548\n",
      "INFO:tensorflow:step = 6100, loss = 0.0070757084 (9.657 sec)\n",
      "INFO:tensorflow:Saving checkpoints for 6175 into dnn_sound_class/model.ckpt.\n",
      "INFO:tensorflow:global_step/sec: 7.53915\n",
      "INFO:tensorflow:step = 6200, loss = 0.0028254488 (13.264 sec)\n",
      "INFO:tensorflow:global_step/sec: 10.1598\n",
      "INFO:tensorflow:step = 6300, loss = 0.7266538 (9.843 sec)\n",
      "INFO:tensorflow:global_step/sec: 10.3556\n",
      "INFO:tensorflow:step = 6400, loss = 0.031019399 (9.657 sec)\n",
      "INFO:tensorflow:global_step/sec: 10.3694\n",
      "INFO:tensorflow:step = 6500, loss = 0.081426434 (9.643 sec)\n",
      "INFO:tensorflow:global_step/sec: 10.4519\n",
      "INFO:tensorflow:step = 6600, loss = 0.13134143 (9.568 sec)\n"
     ]
    }
   ],
   "source": [
    "train_input_fn = tf.estimator.inputs.numpy_input_fn(\n",
    "    x={\"x\": data},\n",
    "    y=labels,\n",
    "    num_epochs=None,\n",
    "    batch_size=50,\n",
    "    shuffle=True\n",
    ")\n",
    "\n",
    "classifier.train(input_fn=train_input_fn, steps=10000)\n",
    "\n",
    "\n"
   ]
  },
  {
   "cell_type": "code",
   "execution_count": 15,
   "metadata": {
    "scrolled": true
   },
   "outputs": [
    {
     "name": "stdout",
     "output_type": "stream",
     "text": [
      "INFO:tensorflow:Calling model_fn.\n",
      "INFO:tensorflow:Done calling model_fn.\n",
      "INFO:tensorflow:Starting evaluation at 2018-06-05-07:11:53\n",
      "INFO:tensorflow:Graph was finalized.\n",
      "INFO:tensorflow:Restoring parameters from dnn_sound_class/model.ckpt-10000\n",
      "INFO:tensorflow:Running local_init_op.\n",
      "INFO:tensorflow:Done running local_init_op.\n",
      "INFO:tensorflow:Finished evaluation at 2018-06-05-07:11:55\n",
      "INFO:tensorflow:Saving dict for global step 10000: accuracy = 0.86706054, average_loss = 1.6416829, global_step = 10000, loss = 185.23656\n",
      "\n",
      "Test Accuracy: 86.706054%\n",
      "\n"
     ]
    }
   ],
   "source": [
    "# Define the test inputs\n",
    "test_input_fn = tf.estimator.inputs.numpy_input_fn(\n",
    "    x={\"x\": test_data},\n",
    "    y=test_labels,\n",
    "    num_epochs=1,\n",
    "    shuffle=False\n",
    ")\n",
    "\n",
    "accuracy_score = classifier.evaluate(input_fn=test_input_fn)[\"accuracy\"]\n",
    "print(\"\\nTest Accuracy: {0:f}%\\n\".format(accuracy_score*100))\n"
   ]
  },
  {
   "cell_type": "code",
   "execution_count": null,
   "metadata": {},
   "outputs": [],
   "source": [
    "for n in predictions:\n",
    "    print(n)"
   ]
  },
  {
   "cell_type": "code",
   "execution_count": null,
   "metadata": {},
   "outputs": [],
   "source": [
    "test_input_fn"
   ]
  },
  {
   "cell_type": "code",
   "execution_count": null,
   "metadata": {},
   "outputs": [],
   "source": [
    "print(test_input_fn)"
   ]
  },
  {
   "cell_type": "code",
   "execution_count": 7,
   "metadata": {},
   "outputs": [],
   "source": [
    "# Define the test inputs   \n",
    "test_input_fn = tf.estimator.inputs.numpy_input_fn(x={\"x\": test_data[0]},shuffle=False)"
   ]
  },
  {
   "cell_type": "code",
   "execution_count": null,
   "metadata": {},
   "outputs": [],
   "source": [
    "for n in predictions:\n",
    "    print(n)"
   ]
  },
  {
   "cell_type": "code",
   "execution_count": null,
   "metadata": {},
   "outputs": [],
   "source": [
    "test_data[0].shape"
   ]
  },
  {
   "cell_type": "code",
   "execution_count": 13,
   "metadata": {},
   "outputs": [],
   "source": [
    "# Generate predictions from the model\n",
    "expected = test_labels\n",
    "predict_x = {'x':test_data}\n",
    "\n",
    "predictions = classifier.predict(input_fn=test_input_fn)"
   ]
  },
  {
   "cell_type": "code",
   "execution_count": 14,
   "metadata": {},
   "outputs": [
    {
     "name": "stdout",
     "output_type": "stream",
     "text": [
      "INFO:tensorflow:Calling model_fn.\n",
      "INFO:tensorflow:Done calling model_fn.\n",
      "INFO:tensorflow:Graph was finalized.\n",
      "INFO:tensorflow:Restoring parameters from dnn_sound_class/model.ckpt-10000\n",
      "INFO:tensorflow:Running local_init_op.\n",
      "INFO:tensorflow:Done running local_init_op.\n"
     ]
    },
    {
     "ename": "TypeError",
     "evalue": "ufunc 'add' did not contain a loop with signature matching types dtype('<U21') dtype('<U21') dtype('<U21')",
     "output_type": "error",
     "traceback": [
      "\u001b[0;31m---------------------------------------------------------------------------\u001b[0m",
      "\u001b[0;31mTypeError\u001b[0m                                 Traceback (most recent call last)",
      "\u001b[0;32m<ipython-input-14-a449962f9ef3>\u001b[0m in \u001b[0;36m<module>\u001b[0;34m()\u001b[0m\n\u001b[1;32m      5\u001b[0m     \u001b[0mprobability\u001b[0m \u001b[0;34m=\u001b[0m \u001b[0mpred_dict\u001b[0m\u001b[0;34m[\u001b[0m\u001b[0;34m'probabilities'\u001b[0m\u001b[0;34m]\u001b[0m\u001b[0;34m[\u001b[0m\u001b[0mclass_id\u001b[0m\u001b[0;34m]\u001b[0m\u001b[0;34m\u001b[0m\u001b[0m\n\u001b[1;32m      6\u001b[0m \u001b[0;34m\u001b[0m\u001b[0m\n\u001b[0;32m----> 7\u001b[0;31m     \u001b[0mprint\u001b[0m\u001b[0;34m(\u001b[0m\u001b[0mclass_id\u001b[0m \u001b[0;34m+\u001b[0m \u001b[0;34m\" \"\u001b[0m \u001b[0;34m+\u001b[0m \u001b[0mprobability\u001b[0m\u001b[0;34m)\u001b[0m\u001b[0;34m\u001b[0m\u001b[0m\n\u001b[0m",
      "\u001b[0;31mTypeError\u001b[0m: ufunc 'add' did not contain a loop with signature matching types dtype('<U21') dtype('<U21') dtype('<U21')"
     ]
    }
   ],
   "source": [
    "template = ('\\nPrediction is \"{}\" ({:.1f}%), expected \"{}\"')\n",
    "\n",
    "for pred_dict, expec in zip(predictions, expected):\n",
    "    class_id = pred_dict['class_ids'][0]\n",
    "    probability = pred_dict['probabilities'][class_id]\n",
    "\n",
    "    print(class_id + \" \" + probability)\n"
   ]
  },
  {
   "cell_type": "code",
   "execution_count": null,
   "metadata": {},
   "outputs": [],
   "source": []
  }
 ],
 "metadata": {
  "kernelspec": {
   "display_name": "Python 3",
   "language": "python",
   "name": "python3"
  },
  "language_info": {
   "codemirror_mode": {
    "name": "ipython",
    "version": 3
   },
   "file_extension": ".py",
   "mimetype": "text/x-python",
   "name": "python",
   "nbconvert_exporter": "python",
   "pygments_lexer": "ipython3",
   "version": "3.5.2"
  }
 },
 "nbformat": 4,
 "nbformat_minor": 2
}
