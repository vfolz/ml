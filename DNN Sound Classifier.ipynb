{
 "cells": [
  {
   "cell_type": "code",
   "execution_count": null,
   "metadata": {},
   "outputs": [],
   "source": [
    "import glob \n",
    "import os.path\n",
    "import tensorflow as tf\n",
    "import numpy as np\n",
    "from tensorflow.contrib.framework.python.ops import audio_ops as contrib_audio"
   ]
  },
  {
   "cell_type": "code",
   "execution_count": null,
   "metadata": {},
   "outputs": [],
   "source": [
    "def load_wav_file(filename):\n",
    "  \"\"\"Loads an audio file and returns a float PCM-encoded array of samples.\n",
    "  Args:\n",
    "    filename: Path to the .wav file to load.\n",
    "  Returns:\n",
    "    Numpy array holding the sample data as floats between -1.0 and 1.0.\n",
    "  \"\"\"\n",
    "  with tf.Session(graph=tf.Graph()) as sess:\n",
    "    wav_filename_placeholder = tf.placeholder(tf.string, [])\n",
    "    wav_loader = tf.read_file(filename)\n",
    "    wav_decoder = contrib_audio.decode_wav(wav_loader, desired_channels=1)\n",
    "    return sess.run(\n",
    "        wav_decoder,\n",
    "        feed_dict={wav_filename_placeholder: filename}).audio.flatten()\n",
    "\n",
    "def parse_audio_files(parent_dir,sub_dirs,file_ext='*.wav'):\n",
    "    i = 0\n",
    "    total_files = 0 \n",
    "    for subs in sub_dirs:\n",
    "        dir_name = parent_dir + \"/\" + subs\n",
    "        numfiles = sum(1 for f in os.listdir(dir_name) if os.path.isfile(os.path.join(dir_name, f)) and f[0] != '.')\n",
    "        total_files +=  numfiles\n",
    "    data = np.zeros((total_files,176400))\n",
    "    labels = np.zeros((total_files), dtype=int)\n",
    "    for label, sub_dir in enumerate(sub_dirs):\n",
    "        for fn in glob.glob(os.path.join(parent_dir, sub_dir, file_ext)):\n",
    "            data[i, :] =   load_wav_file(fn)\n",
    "            num = int(fn.split('-')[1]) \n",
    "            if num != 3:\n",
    "                labels [i:] = 0\n",
    "            else:\n",
    "                labels [i:] = 1 \n",
    "            i += 1\n",
    "    return data, labels"
   ]
  },
  {
   "cell_type": "code",
   "execution_count": null,
   "metadata": {},
   "outputs": [],
   "source": [
    "parent_dir = 'datasets/audio'\n",
    "sub_dirs = ['fold1', 'fold2', 'fold3', 'fold4', 'fold6', 'fold7', 'fold8', 'fold9']\n",
    "data, labels =  parse_audio_files(parent_dir, sub_dirs)"
   ]
  },
  {
   "cell_type": "code",
   "execution_count": null,
   "metadata": {},
   "outputs": [],
   "source": [
    "parent_dir = 'datasets/audio'\n",
    "sub_dirs = ['fold10']\n",
    "test_data, test_labels =  parse_audio_files(parent_dir, sub_dirs)"
   ]
  },
  {
   "cell_type": "code",
   "execution_count": null,
   "metadata": {},
   "outputs": [],
   "source": [
    "feature_columns = [tf.feature_column.numeric_column(\"x\", shape=[176400,])]\n",
    "classifier = tf.estimator.DNNClassifier(\n",
    "    feature_columns=feature_columns,\n",
    "    hidden_units=[500,250,125,75,50,25],\n",
    "    optimizer=tf.train.AdamOptimizer(1e-5),\n",
    "    n_classes=10,\n",
    "    dropout=0.1,\n",
    "    model_dir=\"dnn_sound_class\"\n",
    ")"
   ]
  },
  {
   "cell_type": "code",
   "execution_count": null,
   "metadata": {
    "scrolled": true
   },
   "outputs": [],
   "source": [
    "train_input_fn = tf.estimator.inputs.numpy_input_fn(\n",
    "    x={\"x\": data},\n",
    "    y=labels,\n",
    "    num_epochs=None,\n",
    "    batch_size=50,\n",
    "    shuffle=True\n",
    ")\n",
    "\n",
    "classifier.train(input_fn=train_input_fn, steps=10000)\n",
    "\n",
    "\n"
   ]
  },
  {
   "cell_type": "code",
   "execution_count": null,
   "metadata": {
    "scrolled": true
   },
   "outputs": [],
   "source": [
    "# Define the test inputs\n",
    "test_input_fn = tf.estimator.inputs.numpy_input_fn(\n",
    "    x={\"x\": test_data},\n",
    "    y=test_labels,\n",
    "    num_epochs=1,\n",
    "    shuffle=False\n",
    ")\n",
    "\n",
    "accuracy_score = classifier.evaluate(input_fn=test_input_fn)[\"accuracy\"]\n",
    "print(\"\\nTest Accuracy: {0:f}%\\n\".format(accuracy_score*100))\n"
   ]
  }
 ],
 "metadata": {
  "kernelspec": {
   "display_name": "Python 3",
   "language": "python",
   "name": "python3"
  },
  "language_info": {
   "codemirror_mode": {
    "name": "ipython",
    "version": 3
   },
   "file_extension": ".py",
   "mimetype": "text/x-python",
   "name": "python",
   "nbconvert_exporter": "python",
   "pygments_lexer": "ipython3",
   "version": "3.5.2"
  }
 },
 "nbformat": 4,
 "nbformat_minor": 2
}
