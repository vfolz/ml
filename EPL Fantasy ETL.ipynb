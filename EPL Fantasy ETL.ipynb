{
 "cells": [
  {
   "cell_type": "code",
   "execution_count": null,
   "metadata": {},
   "outputs": [],
   "source": [
    "import requests\n",
    "from pw import *\n",
    "from sqlalchemy import create_engine\n",
    "from pandas.io.json import json_normalize\n",
    "\n",
    "FPL_URL = \"https://fantasy.premierleague.com/drf/\"\n",
    "TEAM_URL = FPL_URL + \"teams/\"\n",
    "FIXTURES_URL = FPL_URL + \"fixtures/\"\n",
    "EVENTS_URL = FPL_URL + \"events/\"\n",
    "PLAYERS_INFO_SUBURL =  FPL_URL +  \"bootstrap-static\"\n",
    "\n",
    "player_dict = {}\n",
    "response_dict = {}\n",
    "\n",
    "def getSeason():\n",
    "    import datetime\n",
    "    today  = datetime.date.today()\n",
    "    if today.month >= 8:\n",
    "        return str(today.year) + \"-\" +  str(today.year +1)\n",
    "    else:\n",
    "        return str(today.year -1) + \"_\" + str(today.year)\n",
    "\n",
    "def get_player(id):\n",
    "    url = \"https://fantasy.premierleague.com/drf/element-summary/\"\n",
    "    string_id = str(id)\n",
    "    return (requests.get(url + string_id)).json()\n",
    "\n",
    "request_dict = {\n",
    "  \"TEAM_URL\": TEAM_URL,\n",
    " \"FIXTURES_URL\": FIXTURES_URL,\n",
    "    \"EVENTS_URL\" : EVENTS_URL,\n",
    "    \"PLAYERS_INFO_FILENAME\" : PLAYERS_INFO_SUBURL\n",
    "}\n",
    "\n",
    "for name,url in request_dict.items():\n",
    "    response_dict.update({name: requests.get(url)})\n",
    "    \n",
    "sched_rslt_df = json_normalize(response_dict['FIXTURES_URL'].json()).drop(columns=['stats'])\n",
    "players_info_df = json_normalize(response_dict['PLAYERS_INFO_FILENAME'].json()['elements'])\n",
    "team_df = json_normalize(response_dict['TEAM_URL'].json()).drop(columns=['next_event_fixture','current_event_fixture'])\n",
    "\n",
    "for _id, _player in players_info_df[['id','web_name']].itertuples(index=False):\n",
    "    print (\"Collecting: \" + _player)\n",
    "    player_dict.update({str(_id): get_player(_id) })\n",
    "    \n",
    "for i, p in enumerate(player_dict.keys()):\n",
    "    if i == 0:\n",
    "        players_df = json_normalize(player_dict[p]['history'])\n",
    "    else:\n",
    "        players_df = players_df.append(json_normalize(player_dict[p]['history']), ignore_index=True)     \n",
    "\n",
    "        \n",
    "engine = create_engine(\"mysql+pymysql://\" + usr + \":\" + pwrd + \"@\" + srv +  \"/\" + db)\n",
    "con = engine.connect()\n",
    "\n",
    "players_df['season'] = getSeason()\n",
    "players_info_df['season']=getSeason()\n",
    "team_df['season']= getSeason()\n",
    "sched_rslt_df['season']= getSeason()\n",
    "sched_rslt_df = json_normalize(response_dict['FIXTURES_URL'].json()).drop(columns=['stats','code','kickoff_time_formatted',\n",
    "                                                                                   'deadline_time','deadline_time_formatted']) \n",
    "\n",
    "players_df.rename(index=str, columns={\"id\": \"player_id\"},inplace=True)\n",
    "players_df.to_sql(name='tbl_plyr_stats_stg',con=con,if_exists='replace', index=False)\n",
    "players_info_df.to_sql(name='tbl_plyr_info_stg',con=con,if_exists='replace', index=False)\n",
    "team_df.to_sql(name='tbl_team_info_stg',con=con,if_exists='replace', index=False)\n",
    "sched_rslt_df.to_sql(name='tbl_fixtures_stg',con=con,if_exists='replace', index=False)"
   ]
  },
  {
   "cell_type": "code",
   "execution_count": 2,
   "metadata": {},
   "outputs": [
    {
     "data": {
      "text/plain": [
       "'victor'"
      ]
     },
     "execution_count": 2,
     "metadata": {},
     "output_type": "execute_result"
    }
   ],
   "source": [
    "from pw import *\n",
    "usr"
   ]
  }
 ],
 "metadata": {
  "kernelspec": {
   "display_name": "Python 3",
   "language": "python",
   "name": "python3"
  },
  "language_info": {
   "codemirror_mode": {
    "name": "ipython",
    "version": 3
   },
   "file_extension": ".py",
   "mimetype": "text/x-python",
   "name": "python",
   "nbconvert_exporter": "python",
   "pygments_lexer": "ipython3",
   "version": "3.5.2"
  },
  "toc": {
   "base_numbering": 1,
   "nav_menu": {},
   "number_sections": false,
   "sideBar": false,
   "skip_h1_title": false,
   "title_cell": "Table of Contents",
   "title_sidebar": "Contents",
   "toc_cell": false,
   "toc_position": {},
   "toc_section_display": false,
   "toc_window_display": false
  }
 },
 "nbformat": 4,
 "nbformat_minor": 2
}
